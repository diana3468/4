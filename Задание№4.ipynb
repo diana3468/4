{
  "nbformat": 4,
  "nbformat_minor": 0,
  "metadata": {
    "colab": {
      "name": "Задание№4",
      "provenance": [],
      "collapsed_sections": []
    },
    "kernelspec": {
      "name": "python3",
      "display_name": "Python 3"
    },
    "language_info": {
      "name": "python"
    }
  },
  "cells": [
    {
      "cell_type": "code",
      "execution_count": null,
      "metadata": {
        "id": "fvjVq2vevDoc"
      },
      "outputs": [],
      "source": [
        ""
      ]
    },
    {
      "cell_type": "markdown",
      "source": [
        "# Задание №4. Корреляция и регрессия\n",
        "## Лобанова Д.В., ПИ-322, номер зачетной книжки- 19130014"
      ],
      "metadata": {
        "id": "_6xWErTkvEtf"
      }
    },
    {
      "cell_type": "markdown",
      "source": [
        "###Генерируем исходные данные"
      ],
      "metadata": {
        "id": "K31znNmGwOU8"
      }
    },
    {
      "cell_type": "code",
      "source": [
        "# Загружаем библиотеку numpy\n",
        "import numpy as np"
      ],
      "metadata": {
        "id": "2xqE8z96vbti"
      },
      "execution_count": 3,
      "outputs": []
    },
    {
      "cell_type": "code",
      "source": [
        "# Номер зачётки - начальное состояние генератора\n",
        "np.random.seed(19130014)"
      ],
      "metadata": {
        "id": "7jaPZ7vkvmij"
      },
      "execution_count": 4,
      "outputs": []
    },
    {
      "cell_type": "code",
      "source": [
        "# Объём выборки\n",
        "N = 100"
      ],
      "metadata": {
        "id": "Kw0VwEp2wHxG"
      },
      "execution_count": 5,
      "outputs": []
    },
    {
      "cell_type": "markdown",
      "source": [
        "###Равномерное распределение"
      ],
      "metadata": {
        "id": "SNttlRCIwVAN"
      }
    },
    {
      "cell_type": "code",
      "source": [
        "# Генератор случайных чисел с нормальным распределением\n",
        "# uniform(low=0.0, high=1.0,size=None)\n",
        "x = np.random.uniform(low=150, high=200,size=N)"
      ],
      "metadata": {
        "id": "ns1lwJCTwZU0"
      },
      "execution_count": 6,
      "outputs": []
    },
    {
      "cell_type": "code",
      "source": [
        "# Описание генератора равномерного распределения\n",
        "np.random.uniform?"
      ],
      "metadata": {
        "id": "zy01obFWxBYP"
      },
      "execution_count": 7,
      "outputs": []
    },
    {
      "cell_type": "markdown",
      "source": [
        "### Нормальное распределение"
      ],
      "metadata": {
        "id": "51r14WiNxOcu"
      }
    },
    {
      "cell_type": "code",
      "source": [
        "# Генератор случайных чисел с нормальным распределением\n",
        "# normal(loс=0.0, scale=1.0,size=None)\n",
        "# Начальное состояние генератора - номер зачетной книжки в обратном порядке\n",
        "np.random.seed(41003191)\n",
        "e = np.random.normal(loc=0, scale=10, size=N)"
      ],
      "metadata": {
        "id": "_okkGYK9xSDU"
      },
      "execution_count": 8,
      "outputs": []
    },
    {
      "cell_type": "code",
      "source": [
        "np.random.normal?"
      ],
      "metadata": {
        "id": "a3XRArpCzpDx"
      },
      "execution_count": 9,
      "outputs": []
    },
    {
      "cell_type": "markdown",
      "source": [
        "### Прямая линия + разброс"
      ],
      "metadata": {
        "id": "F1-a5JcjzwCb"
      }
    },
    {
      "cell_type": "code",
      "source": [
        "# разброс вокруг прямой линии\n",
        "y = -100 + x + e "
      ],
      "metadata": {
        "id": "vZke2Kurz0kZ"
      },
      "execution_count": 10,
      "outputs": []
    },
    {
      "cell_type": "code",
      "source": [
        "# генерация исходных данных со своим номером зачетки\n",
        "import numpy as np\n",
        "np.random.seed(19130014)\n",
        "N = 100"
      ],
      "metadata": {
        "id": "lQqYIUiq0ced"
      },
      "execution_count": 11,
      "outputs": []
    },
    {
      "cell_type": "markdown",
      "source": [
        "###  Диаграмма рассеяния"
      ],
      "metadata": {
        "id": "VZ9NXebS0yC1"
      }
    },
    {
      "cell_type": "code",
      "source": [
        "# Загружаем графическую библиотеку\n",
        "import matplotlib.pyplot as plt"
      ],
      "metadata": {
        "id": "JPRaF78r02hH"
      },
      "execution_count": 12,
      "outputs": []
    },
    {
      "cell_type": "code",
      "source": [
        "# сторим грфафик\n",
        "#plt.scatter(x, y)\n",
        "\n",
        "# Размеры графика в дюймах\n",
        "plt.figure(figsize=(12, 6))\n",
        "\n",
        "# Заголовок графика\n",
        "plt.title(\"Диаграмма рассеяния\")\n",
        "plt.scatter(x, y)\n",
        "# заголовки по осям\n",
        "plt.xlabel(\"x\")\n",
        "plt.ylabel(\"y\")\n",
        "\n",
        "plt.show()"
      ],
      "metadata": {
        "colab": {
          "base_uri": "https://localhost:8080/",
          "height": 362
        },
        "id": "6MSE1BdN061a",
        "outputId": "c9ee122f-5163-48b9-896f-336052abdd17"
      },
      "execution_count": 13,
      "outputs": [
        {
          "output_type": "display_data",
          "data": {
            "text/plain": [
              "<Figure size 864x432 with 1 Axes>"
            ],
            "image/png": "[encoded data removed]"
          },
          "metadata": {
            "needs_background": "light"
          }
        }
      ]
    },
    {
      "cell_type": "markdown",
      "source": [
        "### Корреляционный анализ"
      ],
      "metadata": {
        "id": "Xo9Chh-92lwT"
      }
    },
    {
      "cell_type": "code",
      "source": [
        "import scipy.stats as st\n",
        "r = st.pearsonr(x, y) [0]\n",
        "rho = st.spearmanr(x, y) [0]\n",
        "tau = st.kendalltau(x, y) [0]"
      ],
      "metadata": {
        "id": "adDNnTlg2tNR"
      },
      "execution_count": 14,
      "outputs": []
    },
    {
      "cell_type": "markdown",
      "source": [
        "### F-строка и формат вывода"
      ],
      "metadata": {
        "id": "-4KKjtfO3sWB"
      }
    },
    {
      "cell_type": "code",
      "source": [
        "print(f\"Pearson'‎s r: \\t{r}\")\n",
        "print(f\"Spearman'‎s rho: {rho}\")\n",
        "print(f\"Kendall'‎s tau: \\t{tau}\")"
      ],
      "metadata": {
        "colab": {
          "base_uri": "https://localhost:8080/"
        },
        "id": "rI7kWj-p3zOx",
        "outputId": "452ba605-09b9-44a1-8d87-21eba0865753"
      },
      "execution_count": 15,
      "outputs": [
        {
          "output_type": "stream",
          "name": "stdout",
          "text": [
            "Pearson'‎s r: \t0.8042453403090025\n",
            "Spearman'‎s rho: 0.8106930693069306\n",
            "Kendall'‎s tau: \t0.6173737373737375\n"
          ]
        }
      ]
    },
    {
      "cell_type": "code",
      "source": [
        "print(f\"Коэффициент Пирсона р: \\t{r}\")\n",
        "print(f\"Коэффициент Спирмена ро: {rho}\")\n",
        "print(f\"Коэффициент Кендалла тау: \\t{tau}\")"
      ],
      "metadata": {
        "colab": {
          "base_uri": "https://localhost:8080/"
        },
        "id": "XQkNsOJ551pE",
        "outputId": "75ca8bc9-21dd-4671-b19c-d634f58f459b"
      },
      "execution_count": 16,
      "outputs": [
        {
          "output_type": "stream",
          "name": "stdout",
          "text": [
            "Коэффициент Пирсона р: \t0.8042453403090025\n",
            "Коэффициент Спирмена ро: 0.8106930693069306\n",
            "Коэффициент Кендалла тау: \t0.6173737373737375\n"
          ]
        }
      ]
    },
    {
      "cell_type": "code",
      "source": [
        "print(f\"Pearson'‎s r: \\t{r:.3f}\")\n",
        "print(f\"Spearman'‎s rho: {rho:.3f}\")\n",
        "print(f\"Kendall'‎s tau: \\t{tau:.3f}\")"
      ],
      "metadata": {
        "colab": {
          "base_uri": "https://localhost:8080/"
        },
        "id": "escPUUF_6S_O",
        "outputId": "e07ed30a-c5fb-4ee4-ed8e-b601db7fb377"
      },
      "execution_count": 17,
      "outputs": [
        {
          "output_type": "stream",
          "name": "stdout",
          "text": [
            "Pearson'‎s r: \t0.804\n",
            "Spearman'‎s rho: 0.811\n",
            "Kendall'‎s tau: \t0.617\n"
          ]
        }
      ]
    },
    {
      "cell_type": "markdown",
      "source": [
        "### Регрессионный анализ"
      ],
      "metadata": {
        "id": "oHSR0i-A6j5T"
      }
    },
    {
      "cell_type": "code",
      "source": [
        "results_yx = st.linregress(x, y)\n",
        "a = results_yx.intercept\n",
        "b = results_yx.slope\n",
        "a, b"
      ],
      "metadata": {
        "colab": {
          "base_uri": "https://localhost:8080/"
        },
        "id": "yfNWKWJl6qRF",
        "outputId": "af0b3340-ce8c-4d8e-818d-1a8a1bfa40f0"
      },
      "execution_count": 18,
      "outputs": [
        {
          "output_type": "execute_result",
          "data": {
            "text/plain": [
              "(-96.1709461418364, 0.9899237173640238)"
            ]
          },
          "metadata": {},
          "execution_count": 18
        }
      ]
    },
    {
      "cell_type": "code",
      "source": [
        "print(f\"a: {a:.3f}\")\n",
        "print(f\"b: {b:.3f}\")"
      ],
      "metadata": {
        "colab": {
          "base_uri": "https://localhost:8080/"
        },
        "id": "FMvOJzdM7GDo",
        "outputId": "8d339475-a6bc-4713-ac60-3662fa0401fc"
      },
      "execution_count": 19,
      "outputs": [
        {
          "output_type": "stream",
          "name": "stdout",
          "text": [
            "a: -96.171\n",
            "b: 0.990\n"
          ]
        }
      ]
    },
    {
      "cell_type": "markdown",
      "source": [
        "### Проверка"
      ],
      "metadata": {
        "id": "LRBaaumE7UeM"
      }
    },
    {
      "cell_type": "code",
      "source": [
        "plt.figure(figsize=(12, 6))\n",
        "\n",
        "# Заголовок графика\n",
        "plt.title(\"Диаграмма рассеяния\")\n",
        "\n",
        "plt.scatter(x, y, color=\"black\", label=\"Разброс\")\n",
        "\n",
        "x_yx = np.array([150, 200])\n",
        "y_yx = a + b * x_yx\n",
        "\n",
        "plt.xlabel(\"x\")\n",
        "plt.ylabel(\"y\")\n",
        "\n",
        "plt.plot(x_yx, y_yx, color=\"red\", label=\"Линия регрессии\")\n",
        "\n",
        "plt.legend()\n",
        "plt.show()"
      ],
      "metadata": {
        "colab": {
          "base_uri": "https://localhost:8080/",
          "height": 362
        },
        "id": "D5VeYnn07aDH",
        "outputId": "618f2bc0-814a-443b-c151-9ccebeaeb617"
      },
      "execution_count": 20,
      "outputs": [
        {
          "output_type": "display_data",
          "data": {
            "text/plain": [
              "<Figure size 864x432 with 1 Axes>"
            ],
            "image/png": "[encoded data removed]"
          },
          "metadata": {
            "needs_background": "light"
          }
        }
      ]
    },
    {
      "cell_type": "markdown",
      "source": [
        "### Регрессия y=f(x)"
      ],
      "metadata": {
        "id": "iNG5RDRJDEy2"
      }
    },
    {
      "cell_type": "code",
      "source": [
        "results_xy = st.linregress(y, x)\n",
        "c = results_xy.intercept\n",
        "d = results_xy.slope\n",
        "c, d"
      ],
      "metadata": {
        "colab": {
          "base_uri": "https://localhost:8080/"
        },
        "id": "5CGRKgaCDLqF",
        "outputId": "f4614a5d-4d69-4454-d147-ca593467057e"
      },
      "execution_count": 21,
      "outputs": [
        {
          "output_type": "execute_result",
          "data": {
            "text/plain": [
              "(125.27593083968824, 0.6533943535882498)"
            ]
          },
          "metadata": {},
          "execution_count": 21
        }
      ]
    },
    {
      "cell_type": "markdown",
      "source": [
        "### Пересечение линий регрессии"
      ],
      "metadata": {
        "id": "RLxi8QOIDegH"
      }
    },
    {
      "cell_type": "code",
      "source": [
        "x_mean = np.mean(x)\n",
        "y_mean = np.mean(y)\n",
        "x_mean, y_mean"
      ],
      "metadata": {
        "colab": {
          "base_uri": "https://localhost:8080/"
        },
        "id": "COPFHdH1DkpP",
        "outputId": "553fb7e1-af74-43a6-8faf-62564a8c0f91"
      },
      "execution_count": 22,
      "outputs": [
        {
          "output_type": "execute_result",
          "data": {
            "text/plain": [
              "(176.78438789427815, 78.83211229439098)"
            ]
          },
          "metadata": {},
          "execution_count": 22
        }
      ]
    },
    {
      "cell_type": "markdown",
      "source": [
        "### Совмещение графиков"
      ],
      "metadata": {
        "id": "h7bU_SxBD62L"
      }
    },
    {
      "cell_type": "code",
      "source": [
        "plt.figure(figsize=(12, 6))\n",
        "\n",
        "# Заголовок графика\n",
        "plt.title(\"Диаграмма рассеяния\")\n",
        "\n",
        "# разброс\n",
        "plt.scatter(x, y, color=\"gray\", label=\"Разброс\")\n",
        "\n",
        "\n",
        "\n",
        "#линия регрессии - первая f=y(x)\n",
        "x_yx = np.array([150, 200])\n",
        "y_yx = a + b * x_yx\n",
        "plt.plot(x_yx, y_yx, color=\"blue\", label=\"Линия регрессии y(x)\")\n",
        "\n",
        "\n",
        "#линия регрессии - вторая\n",
        "y_xy = np.array([40, 110])\n",
        "x_xy = c + d * y_xy\n",
        "plt.plot(x_xy, y_xy, color=\"green\", label=\"Линия регрессии x(y)\")\n",
        "\n",
        "\n",
        "#точка пересечения\n",
        "plt.scatter(x_mean, y_mean, color=\"red\", label=\"Точка пересечения\")\n",
        "\n",
        "#вывод\n",
        "plt.xlabel(\"x\")\n",
        "plt.ylabel(\"y\")\n",
        "\n",
        "plt.legend()\n",
        "plt.show()"
      ],
      "metadata": {
        "colab": {
          "base_uri": "https://localhost:8080/",
          "height": 362
        },
        "id": "20d0BHgXD-sm",
        "outputId": "c0f88a11-3471-423d-afec-e327cba178e8"
      },
      "execution_count": 34,
      "outputs": [
        {
          "output_type": "display_data",
          "data": {
            "text/plain": [
              "<Figure size 864x432 with 1 Axes>"
            ],
            "image/png": "[encoded data removed]"
          },
          "metadata": {
            "needs_background": "light"
          }
        }
      ]
    }
  ]
}